{
 "cells": [
  {
   "cell_type": "code",
   "execution_count": 2,
   "id": "7f0a8677-8482-4a89-8447-c144da3c6d20",
   "metadata": {
    "execution": {
     "iopub.execute_input": "2024-12-31T08:06:31.093930Z",
     "iopub.status.busy": "2024-12-31T08:06:31.093930Z",
     "iopub.status.idle": "2024-12-31T08:06:31.111491Z",
     "shell.execute_reply": "2024-12-31T08:06:31.109751Z",
     "shell.execute_reply.started": "2024-12-31T08:06:31.093930Z"
    }
   },
   "outputs": [
    {
     "name": "stdout",
     "output_type": "stream",
     "text": [
      "平均年龄是: 34.19\n",
      "年龄分布情况:\n",
      "Age\n",
      "18    33\n",
      "19    32\n",
      "20    21\n",
      "21    24\n",
      "22    29\n",
      "23    27\n",
      "24    37\n",
      "25    21\n",
      "26    30\n",
      "27    29\n",
      "28    31\n",
      "29    34\n",
      "30    29\n",
      "31    29\n",
      "32    38\n",
      "33    33\n",
      "34    31\n",
      "35    35\n",
      "36    27\n",
      "37    32\n",
      "38    31\n",
      "39    31\n",
      "40    35\n",
      "41    33\n",
      "42    23\n",
      "43    37\n",
      "44    24\n",
      "45    34\n",
      "46    30\n",
      "47    32\n",
      "48    30\n",
      "49    27\n",
      "50    30\n",
      "Name: count, dtype: int64\n"
     ]
    }
   ],
   "source": [
    "import pandas as pd\n",
    "import numpy as np\n",
    "\n",
    "# 假设数据已经加载到DataFrame中\n",
    "data = pd.read_csv('Hair.csv')\n",
    "\n",
    "# 计算平均年龄\n",
    "average_age = data['Age'].mean()\n",
    "print(f\"平均年龄是: {average_age:.2f}\")\n",
    "\n",
    "# 年龄分布情况\n",
    "age_distribution = data['Age'].value_counts().sort_index()\n",
    "print(\"年龄分布情况:\")\n",
    "print(age_distribution)"
   ]
  },
  {
   "cell_type": "code",
   "execution_count": null,
   "id": "86149387-fbc2-49e0-a66b-5d0acb2ca450",
   "metadata": {},
   "outputs": [],
   "source": []
  }
 ],
 "metadata": {
  "kernelspec": {
   "display_name": "work",
   "language": "python",
   "name": "work"
  },
  "language_info": {
   "codemirror_mode": {
    "name": "ipython",
    "version": 3
   },
   "file_extension": ".py",
   "mimetype": "text/x-python",
   "name": "python",
   "nbconvert_exporter": "python",
   "pygments_lexer": "ipython3",
   "version": "3.12.7"
  }
 },
 "nbformat": 4,
 "nbformat_minor": 5
}
