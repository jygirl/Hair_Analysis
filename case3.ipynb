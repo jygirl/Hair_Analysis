{
 "cells": [
  {
   "cell_type": "code",
   "execution_count": 1,
   "id": "8c81048f-4d30-468f-a63c-7eba8ba08d15",
   "metadata": {
    "execution": {
     "iopub.execute_input": "2025-01-05T13:10:35.045682Z",
     "iopub.status.busy": "2025-01-05T13:10:35.044578Z",
     "iopub.status.idle": "2025-01-05T13:10:35.050878Z",
     "shell.execute_reply": "2025-01-05T13:10:35.049741Z",
     "shell.execute_reply.started": "2025-01-05T13:10:35.045682Z"
    }
   },
   "outputs": [],
   "source": [
    "import os"
   ]
  },
  {
   "cell_type": "code",
   "execution_count": 2,
   "id": "487e0d97-498e-42f9-9982-abf41e8f3fd5",
   "metadata": {
    "execution": {
     "iopub.execute_input": "2025-01-05T13:10:44.680942Z",
     "iopub.status.busy": "2025-01-05T13:10:44.680942Z",
     "iopub.status.idle": "2025-01-05T13:10:48.022329Z",
     "shell.execute_reply": "2025-01-05T13:10:48.018447Z",
     "shell.execute_reply.started": "2025-01-05T13:10:44.680942Z"
    }
   },
   "outputs": [
    {
     "ename": "TypeError",
     "evalue": "nt.getcwd() takes no arguments (1 given)",
     "output_type": "error",
     "traceback": [
      "\u001b[1;31m---------------------------------------------------------------------------\u001b[0m",
      "\u001b[1;31mTypeError\u001b[0m                                 Traceback (most recent call last)",
      "Cell \u001b[1;32mIn[2], line 1\u001b[0m\n\u001b[1;32m----> 1\u001b[0m os\u001b[38;5;241m.\u001b[39mgetcwd(\u001b[38;5;124m'\u001b[39m\u001b[38;5;124m../\u001b[39m\u001b[38;5;124m'\u001b[39m)\n",
      "\u001b[1;31mTypeError\u001b[0m: nt.getcwd() takes no arguments (1 given)"
     ]
    }
   ],
   "source": [
    "os.getcwd('../')"
   ]
  },
  {
   "cell_type": "code",
   "execution_count": 4,
   "id": "7a87c5c6-b7fd-4975-9a9f-5bfa37531c68",
   "metadata": {
    "execution": {
     "iopub.execute_input": "2025-01-05T13:11:05.496986Z",
     "iopub.status.busy": "2025-01-05T13:11:05.495963Z",
     "iopub.status.idle": "2025-01-05T13:11:05.512770Z",
     "shell.execute_reply": "2025-01-05T13:11:05.508009Z",
     "shell.execute_reply.started": "2025-01-05T13:11:05.496986Z"
    }
   },
   "outputs": [],
   "source": [
    "os.chdir('..')"
   ]
  },
  {
   "cell_type": "code",
   "execution_count": 5,
   "id": "9bcbb338-ae20-4f29-9307-ff25c4b6f808",
   "metadata": {
    "execution": {
     "iopub.execute_input": "2025-01-05T13:11:14.994784Z",
     "iopub.status.busy": "2025-01-05T13:11:14.993785Z",
     "iopub.status.idle": "2025-01-05T13:11:15.009273Z",
     "shell.execute_reply": "2025-01-05T13:11:15.006752Z",
     "shell.execute_reply.started": "2025-01-05T13:11:14.994784Z"
    }
   },
   "outputs": [
    {
     "data": {
      "text/plain": [
       "'D:\\\\Work'"
      ]
     },
     "execution_count": 5,
     "metadata": {},
     "output_type": "execute_result"
    }
   ],
   "source": [
    "os.getcwd()"
   ]
  },
  {
   "cell_type": "code",
   "execution_count": 6,
   "id": "de87ccf5-8772-4458-a1ab-6382372eabc0",
   "metadata": {
    "execution": {
     "iopub.execute_input": "2025-01-05T13:11:45.082687Z",
     "iopub.status.busy": "2025-01-05T13:11:45.081687Z",
     "iopub.status.idle": "2025-01-05T13:11:45.103524Z",
     "shell.execute_reply": "2025-01-05T13:11:45.100408Z",
     "shell.execute_reply.started": "2025-01-05T13:11:45.082687Z"
    }
   },
   "outputs": [
    {
     "data": {
      "text/plain": [
       "['amewise-theme-main.zip',\n",
       " 'backupOneTab-master.zip',\n",
       " 'data-devops-tool-main.zip',\n",
       " 'DataMigrate-master.zip',\n",
       " 'deye-device-mode',\n",
       " 'deye-device-mode-management-main.zip',\n",
       " 'deye-openapi',\n",
       " 'deye-openapi-main.zip',\n",
       " 'deye-vpp-master.zip',\n",
       " 'deye_dome_final_public-master.zip',\n",
       " 'deye_electricity-main.zip',\n",
       " 'deye_electricity-release-3.1.1.zip',\n",
       " 'deye_ODM_web-deprecated-main.zip',\n",
       " 'deye_web_sdl_newest-deprecated-main.zip',\n",
       " 'dipsio-demo-main.zip',\n",
       " 'emhass_simplify',\n",
       " 'ems-edge-poc',\n",
       " 'openapi-main.zip',\n",
       " 'PCS-BigScreen-main.zip',\n",
       " 'xxl-job',\n",
       " '光伏预测偏差_储能策略分析.xlsx',\n",
       " '光伏预测偏差_储能策略分析_补充.xlsx']"
      ]
     },
     "execution_count": 6,
     "metadata": {},
     "output_type": "execute_result"
    }
   ],
   "source": [
    "os.listdir('./Code/zip/')"
   ]
  },
  {
   "cell_type": "code",
   "execution_count": null,
   "id": "7a0df477-7b87-4052-8020-26678f47725d",
   "metadata": {},
   "outputs": [],
   "source": []
  }
 ],
 "metadata": {
  "kernelspec": {
   "display_name": "Python 3 (ipykernel)",
   "language": "python",
   "name": "python3"
  },
  "language_info": {
   "codemirror_mode": {
    "name": "ipython",
    "version": 3
   },
   "file_extension": ".py",
   "mimetype": "text/x-python",
   "name": "python",
   "nbconvert_exporter": "python",
   "pygments_lexer": "ipython3",
   "version": "3.12.7"
  }
 },
 "nbformat": 4,
 "nbformat_minor": 5
}
